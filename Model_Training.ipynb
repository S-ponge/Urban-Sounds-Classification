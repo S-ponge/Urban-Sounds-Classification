{
  "nbformat": 4,
  "nbformat_minor": 0,
  "metadata": {
    "colab": {
      "provenance": []
    },
    "kernelspec": {
      "name": "python3",
      "display_name": "Python 3"
    },
    "language_info": {
      "name": "python"
    },
    "accelerator": "GPU"
  },
  "cells": [
    {
      "cell_type": "markdown",
      "source": [
        "Import libraries"
      ],
      "metadata": {
        "id": "UJ6jHZVvXWPC"
      }
    },
    {
      "cell_type": "code",
      "source": [
        "import numpy as np\n",
        "import matplotlib.pyplot as plt\n",
        "import tensorflow as tf"
      ],
      "metadata": {
        "id": "f-A7S_mLXVEg"
      },
      "execution_count": 1,
      "outputs": []
    },
    {
      "cell_type": "markdown",
      "source": [
        "Connect to Drive if needed"
      ],
      "metadata": {
        "id": "BFZVfQbSYKRo"
      }
    },
    {
      "cell_type": "code",
      "source": [
        "from google.colab import drive\n",
        "drive.mount('/content/drive')"
      ],
      "metadata": {
        "colab": {
          "base_uri": "https://localhost:8080/"
        },
        "id": "qaJTrxdSYNa4",
        "outputId": "25d348b7-9362-419d-c0cc-86f83872f4eb"
      },
      "execution_count": 2,
      "outputs": [
        {
          "output_type": "stream",
          "name": "stdout",
          "text": [
            "Drive already mounted at /content/drive; to attempt to forcibly remount, call drive.mount(\"/content/drive\", force_remount=True).\n"
          ]
        }
      ]
    },
    {
      "cell_type": "markdown",
      "source": [
        "Load **X_train, y_train, X_val, y_val, X_test** and **y_test** from **source_path**"
      ],
      "metadata": {
        "id": "6jdfRdxDXLgB"
      }
    },
    {
      "cell_type": "code",
      "source": [
        "source_path = \"/content/drive/MyDrive\""
      ],
      "metadata": {
        "id": "gPJN71d_Xqio"
      },
      "execution_count": 3,
      "outputs": []
    },
    {
      "cell_type": "code",
      "execution_count": 4,
      "metadata": {
        "id": "nUUApaTbWG_E"
      },
      "outputs": [],
      "source": [
        "X_train = np.load(f\"{source_path}/X_train.npy\")\n",
        "X_test = np.load(f\"{source_path}/X_test.npy\")\n",
        "X_val = np.load(f\"{source_path}/X_val.npy\")\n",
        "y_train = np.load(f\"{source_path}/y_train.npy\")\n",
        "y_test = np.load(f\"{source_path}/y_test.npy\")\n",
        "y_val = np.load(f\"{source_path}/y_val.npy\")"
      ]
    },
    {
      "cell_type": "code",
      "source": [
        "print(X_test[4].shape)"
      ],
      "metadata": {
        "colab": {
          "base_uri": "https://localhost:8080/"
        },
        "id": "41EilsAGYf96",
        "outputId": "563c87a4-841a-4b94-e932-5eca2c8f6d85"
      },
      "execution_count": 5,
      "outputs": [
        {
          "output_type": "stream",
          "name": "stdout",
          "text": [
            "(64, 64, 1)\n"
          ]
        }
      ]
    },
    {
      "cell_type": "markdown",
      "source": [
        "Create a *Sequential* **model**"
      ],
      "metadata": {
        "id": "Xg1uAlGggbSh"
      }
    },
    {
      "cell_type": "code",
      "source": [
        "model = tf.keras.Sequential()"
      ],
      "metadata": {
        "id": "YhJpD3o4go8p"
      },
      "execution_count": 56,
      "outputs": []
    },
    {
      "cell_type": "markdown",
      "source": [
        "Add **2D** layers"
      ],
      "metadata": {
        "id": "Wf57J5KEgquA"
      }
    },
    {
      "cell_type": "code",
      "source": [
        "model.add(tf.keras.layers.Conv2D(64,\n",
        "                                 kernel_size=(4,4),\n",
        "                                 strides=(1,1),\n",
        "                                 padding=\"same\",\n",
        "                                 activation=\"relu\"))\n",
        "model.add(tf.keras.layers.MaxPooling2D(2,2))\n",
        "model.add(tf.keras.layers.Conv2D(128,\n",
        "                                 kernel_size=(2,2),\n",
        "                                 strides=(1,1),\n",
        "                                 padding=\"same\",\n",
        "                                 activation=\"relu\"))\n",
        "model.add(tf.keras.layers.MaxPooling2D(2,2))\n",
        "model.add(tf.keras.layers.Conv2D(128,\n",
        "                                 kernel_size=(2,2),\n",
        "                                 strides=(1,1),\n",
        "                                 padding=\"same\",\n",
        "                                 activation=\"relu\"))\n",
        "model.add(tf.keras.layers.MaxPooling2D(2,2))"
      ],
      "metadata": {
        "id": "33dyO5-cgtrJ"
      },
      "execution_count": 57,
      "outputs": []
    },
    {
      "cell_type": "markdown",
      "source": [
        "Add **Flatten** layer"
      ],
      "metadata": {
        "id": "7tln3Zekgt1A"
      }
    },
    {
      "cell_type": "code",
      "source": [
        "model.add(tf.keras.layers.Flatten())"
      ],
      "metadata": {
        "id": "k-tc4hS3gt75"
      },
      "execution_count": 58,
      "outputs": []
    },
    {
      "cell_type": "markdown",
      "source": [
        "Add **Dense** and **Dropout** layers"
      ],
      "metadata": {
        "id": "LdyYjMh8hMlR"
      }
    },
    {
      "cell_type": "code",
      "source": [
        "model.add(tf.keras.layers.Dense(128, activation=\"relu\", kernel_regularizer=\"L2\"))\n",
        "model.add(tf.keras.layers.Dropout(0.6))\n",
        "model.add(tf.keras.layers.Dense(64, activation=\"relu\", kernel_regularizer=\"L2\"))\n",
        "model.add(tf.keras.layers.Dropout(0.5))\n",
        "model.add(tf.keras.layers.Dense(10, activation=\"softmax\"))"
      ],
      "metadata": {
        "id": "SkcX0rIchS9g"
      },
      "execution_count": 59,
      "outputs": []
    },
    {
      "cell_type": "markdown",
      "source": [
        "Compile the **model**"
      ],
      "metadata": {
        "id": "PhSMB-nkhWQA"
      }
    },
    {
      "cell_type": "code",
      "source": [
        "opt = tf.keras.optimizers.Adam(learning_rate=0.001)\n",
        "\n",
        "model.compile(optimizer=opt,\n",
        "              loss=\"sparse_categorical_crossentropy\",\n",
        "              metrics=\"accuracy\")"
      ],
      "metadata": {
        "id": "KgCVo-uxhYjR"
      },
      "execution_count": 60,
      "outputs": []
    },
    {
      "cell_type": "markdown",
      "source": [
        "Train the **model**"
      ],
      "metadata": {
        "id": "puvgLwafhZ_p"
      }
    },
    {
      "cell_type": "code",
      "source": [
        "results = model.fit(X_train, y_train,\n",
        "          batch_size=128,\n",
        "          epochs=60,\n",
        "          validation_data=(X_val, y_val))"
      ],
      "metadata": {
        "colab": {
          "base_uri": "https://localhost:8080/"
        },
        "id": "8ZWcoIrghcXx",
        "outputId": "9799b7d3-f38f-4728-b776-c838da3095ff"
      },
      "execution_count": 61,
      "outputs": [
        {
          "output_type": "stream",
          "name": "stdout",
          "text": [
            "Epoch 1/60\n",
            "41/41 [==============================] - 3s 55ms/step - loss: 5.5933 - accuracy: 0.1187 - val_loss: 4.2885 - val_accuracy: 0.1214\n",
            "Epoch 2/60\n",
            "41/41 [==============================] - 2s 47ms/step - loss: 4.0038 - accuracy: 0.1195 - val_loss: 3.7413 - val_accuracy: 0.1694\n",
            "Epoch 3/60\n",
            "41/41 [==============================] - 2s 47ms/step - loss: 3.5468 - accuracy: 0.1466 - val_loss: 3.2701 - val_accuracy: 0.2032\n",
            "Epoch 4/60\n",
            "41/41 [==============================] - 2s 47ms/step - loss: 3.2197 - accuracy: 0.1783 - val_loss: 2.9807 - val_accuracy: 0.2307\n",
            "Epoch 5/60\n",
            "41/41 [==============================] - 2s 48ms/step - loss: 3.0027 - accuracy: 0.1833 - val_loss: 2.7925 - val_accuracy: 0.3205\n",
            "Epoch 6/60\n",
            "41/41 [==============================] - 2s 48ms/step - loss: 2.8132 - accuracy: 0.2110 - val_loss: 2.6506 - val_accuracy: 0.2753\n",
            "Epoch 7/60\n",
            "41/41 [==============================] - 2s 48ms/step - loss: 2.6903 - accuracy: 0.2134 - val_loss: 2.4870 - val_accuracy: 0.3417\n",
            "Epoch 8/60\n",
            "41/41 [==============================] - 2s 48ms/step - loss: 2.5550 - accuracy: 0.2279 - val_loss: 2.4230 - val_accuracy: 0.3755\n",
            "Epoch 9/60\n",
            "41/41 [==============================] - 2s 48ms/step - loss: 2.4386 - accuracy: 0.2572 - val_loss: 2.2197 - val_accuracy: 0.4127\n",
            "Epoch 10/60\n",
            "41/41 [==============================] - 2s 48ms/step - loss: 2.3329 - accuracy: 0.2948 - val_loss: 2.0941 - val_accuracy: 0.4574\n",
            "Epoch 11/60\n",
            "41/41 [==============================] - 2s 49ms/step - loss: 2.1736 - accuracy: 0.3452 - val_loss: 1.9250 - val_accuracy: 0.4991\n",
            "Epoch 12/60\n",
            "41/41 [==============================] - 2s 48ms/step - loss: 2.0650 - accuracy: 0.3830 - val_loss: 1.7566 - val_accuracy: 0.5633\n",
            "Epoch 13/60\n",
            "41/41 [==============================] - 2s 49ms/step - loss: 1.9124 - accuracy: 0.4213 - val_loss: 1.5536 - val_accuracy: 0.6302\n",
            "Epoch 14/60\n",
            "41/41 [==============================] - 2s 49ms/step - loss: 1.7807 - accuracy: 0.4679 - val_loss: 1.4294 - val_accuracy: 0.6709\n",
            "Epoch 15/60\n",
            "41/41 [==============================] - 2s 49ms/step - loss: 1.6350 - accuracy: 0.5248 - val_loss: 1.2905 - val_accuracy: 0.7092\n",
            "Epoch 16/60\n",
            "41/41 [==============================] - 2s 49ms/step - loss: 1.5480 - accuracy: 0.5729 - val_loss: 1.2072 - val_accuracy: 0.7367\n",
            "Epoch 17/60\n",
            "41/41 [==============================] - 2s 49ms/step - loss: 1.4627 - accuracy: 0.6103 - val_loss: 1.1967 - val_accuracy: 0.7247\n",
            "Epoch 18/60\n",
            "41/41 [==============================] - 2s 49ms/step - loss: 1.4115 - accuracy: 0.6235 - val_loss: 1.0936 - val_accuracy: 0.7710\n",
            "Epoch 19/60\n",
            "41/41 [==============================] - 2s 49ms/step - loss: 1.2935 - accuracy: 0.6537 - val_loss: 1.0408 - val_accuracy: 0.7876\n",
            "Epoch 20/60\n",
            "41/41 [==============================] - 2s 49ms/step - loss: 1.2870 - accuracy: 0.6627 - val_loss: 1.0437 - val_accuracy: 0.7876\n",
            "Epoch 21/60\n",
            "41/41 [==============================] - 2s 49ms/step - loss: 1.2370 - accuracy: 0.6955 - val_loss: 1.0013 - val_accuracy: 0.8048\n",
            "Epoch 22/60\n",
            "41/41 [==============================] - 2s 51ms/step - loss: 1.1701 - accuracy: 0.7243 - val_loss: 1.0182 - val_accuracy: 0.8048\n",
            "Epoch 23/60\n",
            "41/41 [==============================] - 2s 49ms/step - loss: 1.1648 - accuracy: 0.7327 - val_loss: 1.0170 - val_accuracy: 0.8208\n",
            "Epoch 24/60\n",
            "41/41 [==============================] - 2s 49ms/step - loss: 1.1215 - accuracy: 0.7537 - val_loss: 1.0086 - val_accuracy: 0.8203\n",
            "Epoch 25/60\n",
            "41/41 [==============================] - 2s 49ms/step - loss: 1.0746 - accuracy: 0.7688 - val_loss: 0.9459 - val_accuracy: 0.8432\n",
            "Epoch 26/60\n",
            "41/41 [==============================] - 2s 51ms/step - loss: 1.0464 - accuracy: 0.7911 - val_loss: 0.9461 - val_accuracy: 0.8426\n",
            "Epoch 27/60\n",
            "41/41 [==============================] - 2s 48ms/step - loss: 1.0125 - accuracy: 0.7967 - val_loss: 0.9446 - val_accuracy: 0.8409\n",
            "Epoch 28/60\n",
            "41/41 [==============================] - 2s 49ms/step - loss: 1.0005 - accuracy: 0.8060 - val_loss: 0.9464 - val_accuracy: 0.8449\n",
            "Epoch 29/60\n",
            "41/41 [==============================] - 2s 50ms/step - loss: 0.9454 - accuracy: 0.8146 - val_loss: 0.8926 - val_accuracy: 0.8569\n",
            "Epoch 30/60\n",
            "41/41 [==============================] - 2s 48ms/step - loss: 0.9287 - accuracy: 0.8272 - val_loss: 0.9208 - val_accuracy: 0.8500\n",
            "Epoch 31/60\n",
            "41/41 [==============================] - 2s 48ms/step - loss: 0.9001 - accuracy: 0.8360 - val_loss: 0.8937 - val_accuracy: 0.8569\n",
            "Epoch 32/60\n",
            "41/41 [==============================] - 2s 48ms/step - loss: 0.8785 - accuracy: 0.8393 - val_loss: 0.8899 - val_accuracy: 0.8592\n",
            "Epoch 33/60\n",
            "41/41 [==============================] - 2s 48ms/step - loss: 0.8358 - accuracy: 0.8505 - val_loss: 0.9083 - val_accuracy: 0.8620\n",
            "Epoch 34/60\n",
            "41/41 [==============================] - 2s 49ms/step - loss: 0.8425 - accuracy: 0.8536 - val_loss: 0.8982 - val_accuracy: 0.8643\n",
            "Epoch 35/60\n",
            "41/41 [==============================] - 2s 48ms/step - loss: 0.8688 - accuracy: 0.8519 - val_loss: 0.8786 - val_accuracy: 0.8603\n",
            "Epoch 36/60\n",
            "41/41 [==============================] - 2s 48ms/step - loss: 0.8130 - accuracy: 0.8654 - val_loss: 0.8519 - val_accuracy: 0.8741\n",
            "Epoch 37/60\n",
            "41/41 [==============================] - 2s 49ms/step - loss: 0.7678 - accuracy: 0.8763 - val_loss: 0.8891 - val_accuracy: 0.8672\n",
            "Epoch 38/60\n",
            "41/41 [==============================] - 2s 48ms/step - loss: 0.7653 - accuracy: 0.8723 - val_loss: 0.8869 - val_accuracy: 0.8712\n",
            "Epoch 39/60\n",
            "41/41 [==============================] - 2s 48ms/step - loss: 0.8092 - accuracy: 0.8627 - val_loss: 0.8710 - val_accuracy: 0.8598\n",
            "Epoch 40/60\n",
            "41/41 [==============================] - 2s 48ms/step - loss: 0.7447 - accuracy: 0.8855 - val_loss: 0.8590 - val_accuracy: 0.8724\n",
            "Epoch 41/60\n",
            "41/41 [==============================] - 2s 48ms/step - loss: 0.7285 - accuracy: 0.8881 - val_loss: 0.8557 - val_accuracy: 0.8712\n",
            "Epoch 42/60\n",
            "41/41 [==============================] - 2s 48ms/step - loss: 0.7064 - accuracy: 0.8942 - val_loss: 0.8899 - val_accuracy: 0.8632\n",
            "Epoch 43/60\n",
            "41/41 [==============================] - 2s 48ms/step - loss: 0.7635 - accuracy: 0.8835 - val_loss: 0.8836 - val_accuracy: 0.8718\n",
            "Epoch 44/60\n",
            "41/41 [==============================] - 2s 48ms/step - loss: 0.7288 - accuracy: 0.8897 - val_loss: 0.8423 - val_accuracy: 0.8792\n",
            "Epoch 45/60\n",
            "41/41 [==============================] - 2s 48ms/step - loss: 0.7310 - accuracy: 0.8877 - val_loss: 0.8443 - val_accuracy: 0.8775\n",
            "Epoch 46/60\n",
            "41/41 [==============================] - 2s 48ms/step - loss: 0.6803 - accuracy: 0.9074 - val_loss: 0.8230 - val_accuracy: 0.8792\n",
            "Epoch 47/60\n",
            "41/41 [==============================] - 2s 50ms/step - loss: 0.6798 - accuracy: 0.9051 - val_loss: 0.9208 - val_accuracy: 0.8598\n",
            "Epoch 48/60\n",
            "41/41 [==============================] - 2s 51ms/step - loss: 0.6994 - accuracy: 0.8956 - val_loss: 0.8317 - val_accuracy: 0.8890\n",
            "Epoch 49/60\n",
            "41/41 [==============================] - 2s 50ms/step - loss: 0.6551 - accuracy: 0.9097 - val_loss: 0.9037 - val_accuracy: 0.8735\n",
            "Epoch 50/60\n",
            "41/41 [==============================] - 2s 51ms/step - loss: 0.6671 - accuracy: 0.9059 - val_loss: 0.8451 - val_accuracy: 0.8804\n",
            "Epoch 51/60\n",
            "41/41 [==============================] - 2s 48ms/step - loss: 0.6624 - accuracy: 0.9086 - val_loss: 0.8265 - val_accuracy: 0.8849\n",
            "Epoch 52/60\n",
            "41/41 [==============================] - 2s 48ms/step - loss: 0.6924 - accuracy: 0.9072 - val_loss: 0.9086 - val_accuracy: 0.8603\n",
            "Epoch 53/60\n",
            "41/41 [==============================] - 2s 51ms/step - loss: 0.7006 - accuracy: 0.9017 - val_loss: 0.8506 - val_accuracy: 0.8861\n",
            "Epoch 54/60\n",
            "41/41 [==============================] - 2s 48ms/step - loss: 0.6511 - accuracy: 0.9168 - val_loss: 0.9043 - val_accuracy: 0.8775\n",
            "Epoch 55/60\n",
            "41/41 [==============================] - 2s 49ms/step - loss: 0.6872 - accuracy: 0.9005 - val_loss: 0.9703 - val_accuracy: 0.8443\n",
            "Epoch 56/60\n",
            "41/41 [==============================] - 2s 48ms/step - loss: 0.6689 - accuracy: 0.9072 - val_loss: 0.8401 - val_accuracy: 0.8741\n",
            "Epoch 57/60\n",
            "41/41 [==============================] - 2s 48ms/step - loss: 0.6407 - accuracy: 0.9158 - val_loss: 0.8632 - val_accuracy: 0.8804\n",
            "Epoch 58/60\n",
            "41/41 [==============================] - 2s 49ms/step - loss: 0.6335 - accuracy: 0.9223 - val_loss: 0.8200 - val_accuracy: 0.8924\n",
            "Epoch 59/60\n",
            "41/41 [==============================] - 2s 49ms/step - loss: 0.5819 - accuracy: 0.9278 - val_loss: 0.8659 - val_accuracy: 0.8804\n",
            "Epoch 60/60\n",
            "41/41 [==============================] - 2s 49ms/step - loss: 0.6100 - accuracy: 0.9244 - val_loss: 0.8187 - val_accuracy: 0.8849\n"
          ]
        }
      ]
    },
    {
      "cell_type": "markdown",
      "source": [
        "Test the **model**"
      ],
      "metadata": {
        "id": "FdFwsGHQhchx"
      }
    },
    {
      "cell_type": "code",
      "source": [
        "model.evaluate(X_test, y_test)"
      ],
      "metadata": {
        "colab": {
          "base_uri": "https://localhost:8080/"
        },
        "id": "IW6wKXF2hcrK",
        "outputId": "160d8f81-7633-4c4e-9215-0c1b2c147ba6"
      },
      "execution_count": 62,
      "outputs": [
        {
          "output_type": "stream",
          "name": "stdout",
          "text": [
            "55/55 [==============================] - 0s 7ms/step - loss: 0.8058 - accuracy: 0.8769\n"
          ]
        },
        {
          "output_type": "execute_result",
          "data": {
            "text/plain": [
              "[0.8058210015296936, 0.87693190574646]"
            ]
          },
          "metadata": {},
          "execution_count": 62
        }
      ]
    },
    {
      "cell_type": "markdown",
      "source": [
        "Visualize **loss** graph "
      ],
      "metadata": {
        "id": "5uCWE8kKiWhL"
      }
    },
    {
      "cell_type": "code",
      "source": [
        "# Plot the the training loss\n",
        "plt.plot(results.history[\"loss\"], label=\"loss\")\n",
        "\n",
        "# Plot the the validation loss\n",
        "plt.plot(results.history[\"val_loss\"], label=\"val_loss\")\n",
        "\n",
        "# Name the x and y axises\n",
        "plt.xlabel(\"Epoch\")\n",
        "plt.ylabel(\"loss\")\n",
        "\n",
        "# Put legend table\n",
        "plt.legend()\n",
        "\n",
        "# Show the plot\n",
        "plt.show()"
      ],
      "metadata": {
        "colab": {
          "base_uri": "https://localhost:8080/",
          "height": 279
        },
        "id": "5b6CxyEhid45",
        "outputId": "a1ec24fc-0a21-43ac-d866-59454f61e87a"
      },
      "execution_count": 63,
      "outputs": [
        {
          "output_type": "display_data",
          "data": {
            "text/plain": [
              "<Figure size 432x288 with 1 Axes>"
            ],
            "image/png": "[encoded data removed]"
          },
          "metadata": {
            "needs_background": "light"
          }
        }
      ]
    },
    {
      "cell_type": "markdown",
      "source": [
        "Visualize **accuracy** graph"
      ],
      "metadata": {
        "id": "qbpEv_TiieA4"
      }
    },
    {
      "cell_type": "code",
      "source": [
        "# Plot the the training accuracy\n",
        "plt.plot(results.history[\"accuracy\"], label=\"accuracy\")\n",
        "\n",
        "# Plot the the validation accuracy\n",
        "plt.plot(results.history[\"val_accuracy\"], label=\"val_accuracy\")\n",
        "\n",
        "# Name the x and y axises\n",
        "plt.xlabel(\"Epoch\")\n",
        "plt.ylabel(\"accuracy\")\n",
        "\n",
        "# Put legend table\n",
        "plt.legend()\n",
        "\n",
        "# Show the plot\n",
        "plt.show()"
      ],
      "metadata": {
        "colab": {
          "base_uri": "https://localhost:8080/",
          "height": 279
        },
        "id": "ABKdh2ckieIA",
        "outputId": "1ff05454-439a-4984-9c04-b7d80f039fa3"
      },
      "execution_count": 64,
      "outputs": [
        {
          "output_type": "display_data",
          "data": {
            "text/plain": [
              "<Figure size 432x288 with 1 Axes>"
            ],
            "image/png": "[encoded data removed]"
          },
          "metadata": {
            "needs_background": "light"
          }
        }
      ]
    },
    {
      "cell_type": "markdown",
      "source": [
        "Try a prediction"
      ],
      "metadata": {
        "id": "VxewhZqarYF5"
      }
    },
    {
      "cell_type": "code",
      "source": [
        "test_index = 4\n",
        "# Make prediction on the reshaped sample\n",
        "prediction_result = model.predict(X_test[test_index].reshape(1,64,64,1))\n",
        "correct_result = y_test[test_index]\n",
        "\n",
        "# Print the prediction result\n",
        "print(prediction_result)"
      ],
      "metadata": {
        "colab": {
          "base_uri": "https://localhost:8080/"
        },
        "id": "mJKvwG-fraRB",
        "outputId": "953e9718-d602-46e4-9371-e8dabd30cb7b"
      },
      "execution_count": 67,
      "outputs": [
        {
          "output_type": "stream",
          "name": "stdout",
          "text": [
            "[[1.5675084e-03 4.0395471e-06 1.2680747e-05 5.6565998e-05 1.8196512e-05\n",
            "  9.9818039e-01 5.9109343e-08 5.4513817e-05 8.5635424e-05 2.0404290e-05]]\n"
          ]
        }
      ]
    },
    {
      "cell_type": "code",
      "source": [
        "print(correct_result)\n",
        "# Find the predicted class\n",
        "print(prediction_result.argmax())\n",
        "\n",
        "# Find the prediction probability\n",
        "print(prediction_result.max())"
      ],
      "metadata": {
        "colab": {
          "base_uri": "https://localhost:8080/"
        },
        "id": "flaw94-wrenh",
        "outputId": "48bf6f03-1e57-49e1-c34a-c3002d4d58f4"
      },
      "execution_count": 68,
      "outputs": [
        {
          "output_type": "stream",
          "name": "stdout",
          "text": [
            "5.0\n",
            "5\n",
            "0.9981804\n"
          ]
        }
      ]
    }
  ]
}